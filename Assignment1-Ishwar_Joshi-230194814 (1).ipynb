{
 "cells": [
  {
   "cell_type": "code",
   "execution_count": 4,
   "id": "cb7ff1b9-e179-4bce-a6ea-35f8dccfcfc7",
   "metadata": {
    "tags": []
   },
   "outputs": [],
   "source": [
    "#Loading the wine dataset in df\n",
    "import pandas as pd\n",
    "from sklearn.datasets import load_wine\n",
    "data = load_wine()\n",
    "df = pd.DataFrame(data.data, columns=data.feature_names)\n",
    "df['target'] = pd.Series(data.target)"
   ]
  },
  {
   "cell_type": "markdown",
   "id": "a3a25cbf-a2ec-4085-a3c0-08827beec638",
   "metadata": {},
   "source": [
    "**Question1(a)** Load the wine dataset. Which feature is categorical and why? Compute the \n",
    "frequency (not the occurrence) of each value of the categorical feature. Include the \n",
    "code in your report."
   ]
  },
  {
   "cell_type": "code",
   "execution_count": 5,
   "id": "4a20533e-e04c-4bdc-88f4-15f52a4eff98",
   "metadata": {
    "tags": []
   },
   "outputs": [
    {
     "data": {
      "text/html": [
       "<div>\n",
       "<style scoped>\n",
       "    .dataframe tbody tr th:only-of-type {\n",
       "        vertical-align: middle;\n",
       "    }\n",
       "\n",
       "    .dataframe tbody tr th {\n",
       "        vertical-align: top;\n",
       "    }\n",
       "\n",
       "    .dataframe thead th {\n",
       "        text-align: right;\n",
       "    }\n",
       "</style>\n",
       "<table border=\"1\" class=\"dataframe\">\n",
       "  <thead>\n",
       "    <tr style=\"text-align: right;\">\n",
       "      <th></th>\n",
       "      <th>alcohol</th>\n",
       "      <th>malic_acid</th>\n",
       "      <th>ash</th>\n",
       "      <th>alcalinity_of_ash</th>\n",
       "      <th>magnesium</th>\n",
       "      <th>total_phenols</th>\n",
       "      <th>flavanoids</th>\n",
       "      <th>nonflavanoid_phenols</th>\n",
       "      <th>proanthocyanins</th>\n",
       "      <th>color_intensity</th>\n",
       "      <th>hue</th>\n",
       "      <th>od280/od315_of_diluted_wines</th>\n",
       "      <th>proline</th>\n",
       "      <th>target</th>\n",
       "    </tr>\n",
       "  </thead>\n",
       "  <tbody>\n",
       "    <tr>\n",
       "      <th>0</th>\n",
       "      <td>14.23</td>\n",
       "      <td>1.71</td>\n",
       "      <td>2.43</td>\n",
       "      <td>15.6</td>\n",
       "      <td>127.0</td>\n",
       "      <td>2.80</td>\n",
       "      <td>3.06</td>\n",
       "      <td>0.28</td>\n",
       "      <td>2.29</td>\n",
       "      <td>5.64</td>\n",
       "      <td>1.04</td>\n",
       "      <td>3.92</td>\n",
       "      <td>1065.0</td>\n",
       "      <td>0</td>\n",
       "    </tr>\n",
       "    <tr>\n",
       "      <th>1</th>\n",
       "      <td>13.20</td>\n",
       "      <td>1.78</td>\n",
       "      <td>2.14</td>\n",
       "      <td>11.2</td>\n",
       "      <td>100.0</td>\n",
       "      <td>2.65</td>\n",
       "      <td>2.76</td>\n",
       "      <td>0.26</td>\n",
       "      <td>1.28</td>\n",
       "      <td>4.38</td>\n",
       "      <td>1.05</td>\n",
       "      <td>3.40</td>\n",
       "      <td>1050.0</td>\n",
       "      <td>0</td>\n",
       "    </tr>\n",
       "    <tr>\n",
       "      <th>2</th>\n",
       "      <td>13.16</td>\n",
       "      <td>2.36</td>\n",
       "      <td>2.67</td>\n",
       "      <td>18.6</td>\n",
       "      <td>101.0</td>\n",
       "      <td>2.80</td>\n",
       "      <td>3.24</td>\n",
       "      <td>0.30</td>\n",
       "      <td>2.81</td>\n",
       "      <td>5.68</td>\n",
       "      <td>1.03</td>\n",
       "      <td>3.17</td>\n",
       "      <td>1185.0</td>\n",
       "      <td>0</td>\n",
       "    </tr>\n",
       "    <tr>\n",
       "      <th>3</th>\n",
       "      <td>14.37</td>\n",
       "      <td>1.95</td>\n",
       "      <td>2.50</td>\n",
       "      <td>16.8</td>\n",
       "      <td>113.0</td>\n",
       "      <td>3.85</td>\n",
       "      <td>3.49</td>\n",
       "      <td>0.24</td>\n",
       "      <td>2.18</td>\n",
       "      <td>7.80</td>\n",
       "      <td>0.86</td>\n",
       "      <td>3.45</td>\n",
       "      <td>1480.0</td>\n",
       "      <td>0</td>\n",
       "    </tr>\n",
       "    <tr>\n",
       "      <th>4</th>\n",
       "      <td>13.24</td>\n",
       "      <td>2.59</td>\n",
       "      <td>2.87</td>\n",
       "      <td>21.0</td>\n",
       "      <td>118.0</td>\n",
       "      <td>2.80</td>\n",
       "      <td>2.69</td>\n",
       "      <td>0.39</td>\n",
       "      <td>1.82</td>\n",
       "      <td>4.32</td>\n",
       "      <td>1.04</td>\n",
       "      <td>2.93</td>\n",
       "      <td>735.0</td>\n",
       "      <td>0</td>\n",
       "    </tr>\n",
       "  </tbody>\n",
       "</table>\n",
       "</div>"
      ],
      "text/plain": [
       "   alcohol  malic_acid   ash  alcalinity_of_ash  magnesium  total_phenols  \\\n",
       "0    14.23        1.71  2.43               15.6      127.0           2.80   \n",
       "1    13.20        1.78  2.14               11.2      100.0           2.65   \n",
       "2    13.16        2.36  2.67               18.6      101.0           2.80   \n",
       "3    14.37        1.95  2.50               16.8      113.0           3.85   \n",
       "4    13.24        2.59  2.87               21.0      118.0           2.80   \n",
       "\n",
       "   flavanoids  nonflavanoid_phenols  proanthocyanins  color_intensity   hue  \\\n",
       "0        3.06                  0.28             2.29             5.64  1.04   \n",
       "1        2.76                  0.26             1.28             4.38  1.05   \n",
       "2        3.24                  0.30             2.81             5.68  1.03   \n",
       "3        3.49                  0.24             2.18             7.80  0.86   \n",
       "4        2.69                  0.39             1.82             4.32  1.04   \n",
       "\n",
       "   od280/od315_of_diluted_wines  proline  target  \n",
       "0                          3.92   1065.0       0  \n",
       "1                          3.40   1050.0       0  \n",
       "2                          3.17   1185.0       0  \n",
       "3                          3.45   1480.0       0  \n",
       "4                          2.93    735.0       0  "
      ]
     },
     "execution_count": 5,
     "metadata": {},
     "output_type": "execute_result"
    }
   ],
   "source": [
    "#Printing the first few values to look for repeating values\n",
    "df.head()"
   ]
  },
  {
   "cell_type": "code",
   "execution_count": 6,
   "id": "b4de403c-fa35-4abb-9edf-7bad1f507d40",
   "metadata": {
    "tags": []
   },
   "outputs": [
    {
     "name": "stdout",
     "output_type": "stream",
     "text": [
      "[0 1 2]\n",
      "(178, 14)\n"
     ]
    }
   ],
   "source": [
    "#As seen above target feature containes duplicate values hence after printing unique values and shape we should get more clarity\n",
    "print((df['target']).unique())\n",
    "print(df.shape)"
   ]
  },
  {
   "cell_type": "markdown",
   "id": "94ac67b6-caf5-4c86-8895-ab0e376f55d7",
   "metadata": {},
   "source": [
    "**Note** As we can see above after printing the unique values for target column only 3 values are there but the total number of rows are 178 as can be seen from df.shape method, hence we can conclude that all 178 rows are categorised into 3 values i.e. '[0,1,2]' hence the 'target' feature is categorial"
   ]
  },
  {
   "cell_type": "code",
   "execution_count": 7,
   "id": "1fcf2a81-d6d2-4846-902b-82bf30d18ad9",
   "metadata": {
    "tags": []
   },
   "outputs": [],
   "source": [
    "#Getting the occurunces of target values using value counts\n",
    "occ=df['target'].value_counts()"
   ]
  },
  {
   "cell_type": "code",
   "execution_count": 8,
   "id": "d5ef98c7-93ab-4271-919c-e3b01ac725c1",
   "metadata": {
    "tags": []
   },
   "outputs": [
    {
     "name": "stdout",
     "output_type": "stream",
     "text": [
      "target\n",
      "1    71\n",
      "0    59\n",
      "2    48\n",
      "Name: count, dtype: int64\n",
      "frequency of : 0 is 0.33146067415730335\n",
      "frequency of : 1 is 0.398876404494382\n",
      "frequency of : 2 is 0.2696629213483146\n"
     ]
    }
   ],
   "source": [
    "#Printing the frequencies of each category\n",
    "print(occ)\n",
    "for i in range(len(occ)):\n",
    "    freq = occ[i]/178\n",
    "    print('frequency of :',i,'is', freq)"
   ]
  },
  {
   "cell_type": "markdown",
   "id": "1e94725b-7702-4dfd-92fc-2134f039ed5f",
   "metadata": {},
   "source": [
    "**Code Explaination** After running the above code, unique values for target column only 3 values are there but the total number of rows are 178 as can be seen from df.shape method, hence we can conclude that all 178 rows are contains one of the 3 values i.e. '[0,1,2]'  that means they can be categorised into these 3 values. Hence the 'target' feature is categorial.\n",
    "The frequencies of each categorial value can be printed by above code they are as follows :\n",
    "frequency of: 0 is 0.33146067415730335\n",
    "frequency of: 1 is 0.398876404494382\n",
    "frequency of: 2 is 0.2696629213483146"
   ]
  },
  {
   "cell_type": "markdown",
   "id": "a1422479-5c06-4781-814b-95446cec18f7",
   "metadata": {},
   "source": [
    "**Question1(b)** Compute two different univariate and two different multivariate summaries for all\n",
    "numerical features. Include the code in your report"
   ]
  },
  {
   "cell_type": "code",
   "execution_count": 9,
   "id": "96827faf-3f96-4e2c-ae41-b76c45c86010",
   "metadata": {
    "tags": []
   },
   "outputs": [
    {
     "name": "stdout",
     "output_type": "stream",
     "text": [
      "mean of : alcohol = 13.00061797752809\n",
      "median of alcohol = 13.05\n",
      "mean of : malic_acid = 2.3363483146067416\n",
      "median of malic_acid = 1.8650000000000002\n",
      "mean of : ash = 2.3665168539325845\n",
      "median of ash = 2.36\n",
      "mean of : alcalinity_of_ash = 19.49494382022472\n",
      "median of alcalinity_of_ash = 19.5\n",
      "mean of : magnesium = 99.74157303370787\n",
      "median of magnesium = 98.0\n",
      "mean of : total_phenols = 2.295112359550562\n",
      "median of total_phenols = 2.355\n",
      "mean of : flavanoids = 2.0292696629213487\n",
      "median of flavanoids = 2.135\n",
      "mean of : nonflavanoid_phenols = 0.3618539325842696\n",
      "median of nonflavanoid_phenols = 0.34\n",
      "mean of : proanthocyanins = 1.5908988764044945\n",
      "median of proanthocyanins = 1.5550000000000002\n",
      "mean of : color_intensity = 5.058089882022472\n",
      "median of color_intensity = 4.6899999999999995\n",
      "mean of : hue = 0.9574494382022471\n",
      "median of hue = 0.965\n",
      "mean of : od280/od315_of_diluted_wines = 2.6116853932584267\n",
      "median of od280/od315_of_diluted_wines = 2.78\n",
      "mean of : proline = 746.8932584269663\n",
      "median of proline = 673.5\n",
      "mean of : target = 0.9382022471910112\n",
      "median of target = 1.0\n"
     ]
    }
   ],
   "source": [
    "columns= df.columns\n",
    "for i in columns:\n",
    "    print('mean of :',df[i].name, '= {}'.format(df[i].mean()))\n",
    "    print('median of',df[i].name,'= {}'.format(df[i].median()))"
   ]
  },
  {
   "cell_type": "markdown",
   "id": "f8f669ff-f915-436d-a05e-2509bf4ec745",
   "metadata": {
    "tags": []
   },
   "source": [
    "df.cov()"
   ]
  },
  {
   "cell_type": "code",
   "execution_count": 10,
   "id": "06c1daf1-8bf5-43d0-8226-561dcfd9ac80",
   "metadata": {
    "tags": []
   },
   "outputs": [
    {
     "data": {
      "text/html": [
       "<div>\n",
       "<style scoped>\n",
       "    .dataframe tbody tr th:only-of-type {\n",
       "        vertical-align: middle;\n",
       "    }\n",
       "\n",
       "    .dataframe tbody tr th {\n",
       "        vertical-align: top;\n",
       "    }\n",
       "\n",
       "    .dataframe thead th {\n",
       "        text-align: right;\n",
       "    }\n",
       "</style>\n",
       "<table border=\"1\" class=\"dataframe\">\n",
       "  <thead>\n",
       "    <tr style=\"text-align: right;\">\n",
       "      <th></th>\n",
       "      <th>alcohol</th>\n",
       "      <th>malic_acid</th>\n",
       "      <th>ash</th>\n",
       "      <th>alcalinity_of_ash</th>\n",
       "      <th>magnesium</th>\n",
       "      <th>total_phenols</th>\n",
       "      <th>flavanoids</th>\n",
       "      <th>nonflavanoid_phenols</th>\n",
       "      <th>proanthocyanins</th>\n",
       "      <th>color_intensity</th>\n",
       "      <th>hue</th>\n",
       "      <th>od280/od315_of_diluted_wines</th>\n",
       "      <th>proline</th>\n",
       "      <th>target</th>\n",
       "    </tr>\n",
       "  </thead>\n",
       "  <tbody>\n",
       "    <tr>\n",
       "      <th>alcohol</th>\n",
       "      <td>1.000000</td>\n",
       "      <td>0.094397</td>\n",
       "      <td>0.211545</td>\n",
       "      <td>-0.310235</td>\n",
       "      <td>0.270798</td>\n",
       "      <td>0.289101</td>\n",
       "      <td>0.236815</td>\n",
       "      <td>-0.155929</td>\n",
       "      <td>0.136698</td>\n",
       "      <td>0.546364</td>\n",
       "      <td>-0.071747</td>\n",
       "      <td>0.072343</td>\n",
       "      <td>0.643720</td>\n",
       "      <td>-0.328222</td>\n",
       "    </tr>\n",
       "    <tr>\n",
       "      <th>malic_acid</th>\n",
       "      <td>0.094397</td>\n",
       "      <td>1.000000</td>\n",
       "      <td>0.164045</td>\n",
       "      <td>0.288500</td>\n",
       "      <td>-0.054575</td>\n",
       "      <td>-0.335167</td>\n",
       "      <td>-0.411007</td>\n",
       "      <td>0.292977</td>\n",
       "      <td>-0.220746</td>\n",
       "      <td>0.248985</td>\n",
       "      <td>-0.561296</td>\n",
       "      <td>-0.368710</td>\n",
       "      <td>-0.192011</td>\n",
       "      <td>0.437776</td>\n",
       "    </tr>\n",
       "    <tr>\n",
       "      <th>ash</th>\n",
       "      <td>0.211545</td>\n",
       "      <td>0.164045</td>\n",
       "      <td>1.000000</td>\n",
       "      <td>0.443367</td>\n",
       "      <td>0.286587</td>\n",
       "      <td>0.128980</td>\n",
       "      <td>0.115077</td>\n",
       "      <td>0.186230</td>\n",
       "      <td>0.009652</td>\n",
       "      <td>0.258887</td>\n",
       "      <td>-0.074667</td>\n",
       "      <td>0.003911</td>\n",
       "      <td>0.223626</td>\n",
       "      <td>-0.049643</td>\n",
       "    </tr>\n",
       "    <tr>\n",
       "      <th>alcalinity_of_ash</th>\n",
       "      <td>-0.310235</td>\n",
       "      <td>0.288500</td>\n",
       "      <td>0.443367</td>\n",
       "      <td>1.000000</td>\n",
       "      <td>-0.083333</td>\n",
       "      <td>-0.321113</td>\n",
       "      <td>-0.351370</td>\n",
       "      <td>0.361922</td>\n",
       "      <td>-0.197327</td>\n",
       "      <td>0.018732</td>\n",
       "      <td>-0.273955</td>\n",
       "      <td>-0.276769</td>\n",
       "      <td>-0.440597</td>\n",
       "      <td>0.517859</td>\n",
       "    </tr>\n",
       "    <tr>\n",
       "      <th>magnesium</th>\n",
       "      <td>0.270798</td>\n",
       "      <td>-0.054575</td>\n",
       "      <td>0.286587</td>\n",
       "      <td>-0.083333</td>\n",
       "      <td>1.000000</td>\n",
       "      <td>0.214401</td>\n",
       "      <td>0.195784</td>\n",
       "      <td>-0.256294</td>\n",
       "      <td>0.236441</td>\n",
       "      <td>0.199950</td>\n",
       "      <td>0.055398</td>\n",
       "      <td>0.066004</td>\n",
       "      <td>0.393351</td>\n",
       "      <td>-0.209179</td>\n",
       "    </tr>\n",
       "    <tr>\n",
       "      <th>total_phenols</th>\n",
       "      <td>0.289101</td>\n",
       "      <td>-0.335167</td>\n",
       "      <td>0.128980</td>\n",
       "      <td>-0.321113</td>\n",
       "      <td>0.214401</td>\n",
       "      <td>1.000000</td>\n",
       "      <td>0.864564</td>\n",
       "      <td>-0.449935</td>\n",
       "      <td>0.612413</td>\n",
       "      <td>-0.055136</td>\n",
       "      <td>0.433681</td>\n",
       "      <td>0.699949</td>\n",
       "      <td>0.498115</td>\n",
       "      <td>-0.719163</td>\n",
       "    </tr>\n",
       "    <tr>\n",
       "      <th>flavanoids</th>\n",
       "      <td>0.236815</td>\n",
       "      <td>-0.411007</td>\n",
       "      <td>0.115077</td>\n",
       "      <td>-0.351370</td>\n",
       "      <td>0.195784</td>\n",
       "      <td>0.864564</td>\n",
       "      <td>1.000000</td>\n",
       "      <td>-0.537900</td>\n",
       "      <td>0.652692</td>\n",
       "      <td>-0.172379</td>\n",
       "      <td>0.543479</td>\n",
       "      <td>0.787194</td>\n",
       "      <td>0.494193</td>\n",
       "      <td>-0.847498</td>\n",
       "    </tr>\n",
       "    <tr>\n",
       "      <th>nonflavanoid_phenols</th>\n",
       "      <td>-0.155929</td>\n",
       "      <td>0.292977</td>\n",
       "      <td>0.186230</td>\n",
       "      <td>0.361922</td>\n",
       "      <td>-0.256294</td>\n",
       "      <td>-0.449935</td>\n",
       "      <td>-0.537900</td>\n",
       "      <td>1.000000</td>\n",
       "      <td>-0.365845</td>\n",
       "      <td>0.139057</td>\n",
       "      <td>-0.262640</td>\n",
       "      <td>-0.503270</td>\n",
       "      <td>-0.311385</td>\n",
       "      <td>0.489109</td>\n",
       "    </tr>\n",
       "    <tr>\n",
       "      <th>proanthocyanins</th>\n",
       "      <td>0.136698</td>\n",
       "      <td>-0.220746</td>\n",
       "      <td>0.009652</td>\n",
       "      <td>-0.197327</td>\n",
       "      <td>0.236441</td>\n",
       "      <td>0.612413</td>\n",
       "      <td>0.652692</td>\n",
       "      <td>-0.365845</td>\n",
       "      <td>1.000000</td>\n",
       "      <td>-0.025250</td>\n",
       "      <td>0.295544</td>\n",
       "      <td>0.519067</td>\n",
       "      <td>0.330417</td>\n",
       "      <td>-0.499130</td>\n",
       "    </tr>\n",
       "    <tr>\n",
       "      <th>color_intensity</th>\n",
       "      <td>0.546364</td>\n",
       "      <td>0.248985</td>\n",
       "      <td>0.258887</td>\n",
       "      <td>0.018732</td>\n",
       "      <td>0.199950</td>\n",
       "      <td>-0.055136</td>\n",
       "      <td>-0.172379</td>\n",
       "      <td>0.139057</td>\n",
       "      <td>-0.025250</td>\n",
       "      <td>1.000000</td>\n",
       "      <td>-0.521813</td>\n",
       "      <td>-0.428815</td>\n",
       "      <td>0.316100</td>\n",
       "      <td>0.265668</td>\n",
       "    </tr>\n",
       "    <tr>\n",
       "      <th>hue</th>\n",
       "      <td>-0.071747</td>\n",
       "      <td>-0.561296</td>\n",
       "      <td>-0.074667</td>\n",
       "      <td>-0.273955</td>\n",
       "      <td>0.055398</td>\n",
       "      <td>0.433681</td>\n",
       "      <td>0.543479</td>\n",
       "      <td>-0.262640</td>\n",
       "      <td>0.295544</td>\n",
       "      <td>-0.521813</td>\n",
       "      <td>1.000000</td>\n",
       "      <td>0.565468</td>\n",
       "      <td>0.236183</td>\n",
       "      <td>-0.617369</td>\n",
       "    </tr>\n",
       "    <tr>\n",
       "      <th>od280/od315_of_diluted_wines</th>\n",
       "      <td>0.072343</td>\n",
       "      <td>-0.368710</td>\n",
       "      <td>0.003911</td>\n",
       "      <td>-0.276769</td>\n",
       "      <td>0.066004</td>\n",
       "      <td>0.699949</td>\n",
       "      <td>0.787194</td>\n",
       "      <td>-0.503270</td>\n",
       "      <td>0.519067</td>\n",
       "      <td>-0.428815</td>\n",
       "      <td>0.565468</td>\n",
       "      <td>1.000000</td>\n",
       "      <td>0.312761</td>\n",
       "      <td>-0.788230</td>\n",
       "    </tr>\n",
       "    <tr>\n",
       "      <th>proline</th>\n",
       "      <td>0.643720</td>\n",
       "      <td>-0.192011</td>\n",
       "      <td>0.223626</td>\n",
       "      <td>-0.440597</td>\n",
       "      <td>0.393351</td>\n",
       "      <td>0.498115</td>\n",
       "      <td>0.494193</td>\n",
       "      <td>-0.311385</td>\n",
       "      <td>0.330417</td>\n",
       "      <td>0.316100</td>\n",
       "      <td>0.236183</td>\n",
       "      <td>0.312761</td>\n",
       "      <td>1.000000</td>\n",
       "      <td>-0.633717</td>\n",
       "    </tr>\n",
       "    <tr>\n",
       "      <th>target</th>\n",
       "      <td>-0.328222</td>\n",
       "      <td>0.437776</td>\n",
       "      <td>-0.049643</td>\n",
       "      <td>0.517859</td>\n",
       "      <td>-0.209179</td>\n",
       "      <td>-0.719163</td>\n",
       "      <td>-0.847498</td>\n",
       "      <td>0.489109</td>\n",
       "      <td>-0.499130</td>\n",
       "      <td>0.265668</td>\n",
       "      <td>-0.617369</td>\n",
       "      <td>-0.788230</td>\n",
       "      <td>-0.633717</td>\n",
       "      <td>1.000000</td>\n",
       "    </tr>\n",
       "  </tbody>\n",
       "</table>\n",
       "</div>"
      ],
      "text/plain": [
       "                               alcohol  malic_acid       ash  \\\n",
       "alcohol                       1.000000    0.094397  0.211545   \n",
       "malic_acid                    0.094397    1.000000  0.164045   \n",
       "ash                           0.211545    0.164045  1.000000   \n",
       "alcalinity_of_ash            -0.310235    0.288500  0.443367   \n",
       "magnesium                     0.270798   -0.054575  0.286587   \n",
       "total_phenols                 0.289101   -0.335167  0.128980   \n",
       "flavanoids                    0.236815   -0.411007  0.115077   \n",
       "nonflavanoid_phenols         -0.155929    0.292977  0.186230   \n",
       "proanthocyanins               0.136698   -0.220746  0.009652   \n",
       "color_intensity               0.546364    0.248985  0.258887   \n",
       "hue                          -0.071747   -0.561296 -0.074667   \n",
       "od280/od315_of_diluted_wines  0.072343   -0.368710  0.003911   \n",
       "proline                       0.643720   -0.192011  0.223626   \n",
       "target                       -0.328222    0.437776 -0.049643   \n",
       "\n",
       "                              alcalinity_of_ash  magnesium  total_phenols  \\\n",
       "alcohol                               -0.310235   0.270798       0.289101   \n",
       "malic_acid                             0.288500  -0.054575      -0.335167   \n",
       "ash                                    0.443367   0.286587       0.128980   \n",
       "alcalinity_of_ash                      1.000000  -0.083333      -0.321113   \n",
       "magnesium                             -0.083333   1.000000       0.214401   \n",
       "total_phenols                         -0.321113   0.214401       1.000000   \n",
       "flavanoids                            -0.351370   0.195784       0.864564   \n",
       "nonflavanoid_phenols                   0.361922  -0.256294      -0.449935   \n",
       "proanthocyanins                       -0.197327   0.236441       0.612413   \n",
       "color_intensity                        0.018732   0.199950      -0.055136   \n",
       "hue                                   -0.273955   0.055398       0.433681   \n",
       "od280/od315_of_diluted_wines          -0.276769   0.066004       0.699949   \n",
       "proline                               -0.440597   0.393351       0.498115   \n",
       "target                                 0.517859  -0.209179      -0.719163   \n",
       "\n",
       "                              flavanoids  nonflavanoid_phenols  \\\n",
       "alcohol                         0.236815             -0.155929   \n",
       "malic_acid                     -0.411007              0.292977   \n",
       "ash                             0.115077              0.186230   \n",
       "alcalinity_of_ash              -0.351370              0.361922   \n",
       "magnesium                       0.195784             -0.256294   \n",
       "total_phenols                   0.864564             -0.449935   \n",
       "flavanoids                      1.000000             -0.537900   \n",
       "nonflavanoid_phenols           -0.537900              1.000000   \n",
       "proanthocyanins                 0.652692             -0.365845   \n",
       "color_intensity                -0.172379              0.139057   \n",
       "hue                             0.543479             -0.262640   \n",
       "od280/od315_of_diluted_wines    0.787194             -0.503270   \n",
       "proline                         0.494193             -0.311385   \n",
       "target                         -0.847498              0.489109   \n",
       "\n",
       "                              proanthocyanins  color_intensity       hue  \\\n",
       "alcohol                              0.136698         0.546364 -0.071747   \n",
       "malic_acid                          -0.220746         0.248985 -0.561296   \n",
       "ash                                  0.009652         0.258887 -0.074667   \n",
       "alcalinity_of_ash                   -0.197327         0.018732 -0.273955   \n",
       "magnesium                            0.236441         0.199950  0.055398   \n",
       "total_phenols                        0.612413        -0.055136  0.433681   \n",
       "flavanoids                           0.652692        -0.172379  0.543479   \n",
       "nonflavanoid_phenols                -0.365845         0.139057 -0.262640   \n",
       "proanthocyanins                      1.000000        -0.025250  0.295544   \n",
       "color_intensity                     -0.025250         1.000000 -0.521813   \n",
       "hue                                  0.295544        -0.521813  1.000000   \n",
       "od280/od315_of_diluted_wines         0.519067        -0.428815  0.565468   \n",
       "proline                              0.330417         0.316100  0.236183   \n",
       "target                              -0.499130         0.265668 -0.617369   \n",
       "\n",
       "                              od280/od315_of_diluted_wines   proline    target  \n",
       "alcohol                                           0.072343  0.643720 -0.328222  \n",
       "malic_acid                                       -0.368710 -0.192011  0.437776  \n",
       "ash                                               0.003911  0.223626 -0.049643  \n",
       "alcalinity_of_ash                                -0.276769 -0.440597  0.517859  \n",
       "magnesium                                         0.066004  0.393351 -0.209179  \n",
       "total_phenols                                     0.699949  0.498115 -0.719163  \n",
       "flavanoids                                        0.787194  0.494193 -0.847498  \n",
       "nonflavanoid_phenols                             -0.503270 -0.311385  0.489109  \n",
       "proanthocyanins                                   0.519067  0.330417 -0.499130  \n",
       "color_intensity                                  -0.428815  0.316100  0.265668  \n",
       "hue                                               0.565468  0.236183 -0.617369  \n",
       "od280/od315_of_diluted_wines                      1.000000  0.312761 -0.788230  \n",
       "proline                                           0.312761  1.000000 -0.633717  \n",
       "target                                           -0.788230 -0.633717  1.000000  "
      ]
     },
     "execution_count": 10,
     "metadata": {},
     "output_type": "execute_result"
    }
   ],
   "source": [
    "df.corr()"
   ]
  },
  {
   "cell_type": "markdown",
   "id": "e0906af3-18cc-4449-98d5-31abe0923c59",
   "metadata": {},
   "source": [
    "**Code Explaination**The Univariate features are: - mean, median, mode, standard deviation. I have used a for loop that will give you a mean and median for each of the columns. \n",
    "The Multi-variate feature is: - covariance and correlation. We can compute the covariance and correlation between pairs of attributes using cov and corr functions. Please find the code above."
   ]
  },
  {
   "cell_type": "markdown",
   "id": "360ee7b2-cd62-4524-a32d-bc632acecf62",
   "metadata": {},
   "source": [
    "**Question1(c)** Group observations by the categorical feature & compute the corresponding median\n",
    "for each remaining numerical feature. Include the code in your report. "
   ]
  },
  {
   "cell_type": "code",
   "execution_count": 11,
   "id": "5224d3d8-515f-4a6f-b754-8f55fe698158",
   "metadata": {
    "tags": []
   },
   "outputs": [
    {
     "data": {
      "text/html": [
       "<div>\n",
       "<style scoped>\n",
       "    .dataframe tbody tr th:only-of-type {\n",
       "        vertical-align: middle;\n",
       "    }\n",
       "\n",
       "    .dataframe tbody tr th {\n",
       "        vertical-align: top;\n",
       "    }\n",
       "\n",
       "    .dataframe thead th {\n",
       "        text-align: right;\n",
       "    }\n",
       "</style>\n",
       "<table border=\"1\" class=\"dataframe\">\n",
       "  <thead>\n",
       "    <tr style=\"text-align: right;\">\n",
       "      <th></th>\n",
       "      <th>alcohol</th>\n",
       "      <th>malic_acid</th>\n",
       "      <th>ash</th>\n",
       "      <th>alcalinity_of_ash</th>\n",
       "      <th>magnesium</th>\n",
       "      <th>total_phenols</th>\n",
       "      <th>flavanoids</th>\n",
       "      <th>nonflavanoid_phenols</th>\n",
       "      <th>proanthocyanins</th>\n",
       "      <th>color_intensity</th>\n",
       "      <th>hue</th>\n",
       "      <th>od280/od315_of_diluted_wines</th>\n",
       "      <th>proline</th>\n",
       "    </tr>\n",
       "    <tr>\n",
       "      <th>target</th>\n",
       "      <th></th>\n",
       "      <th></th>\n",
       "      <th></th>\n",
       "      <th></th>\n",
       "      <th></th>\n",
       "      <th></th>\n",
       "      <th></th>\n",
       "      <th></th>\n",
       "      <th></th>\n",
       "      <th></th>\n",
       "      <th></th>\n",
       "      <th></th>\n",
       "      <th></th>\n",
       "    </tr>\n",
       "  </thead>\n",
       "  <tbody>\n",
       "    <tr>\n",
       "      <th>0</th>\n",
       "      <td>13.750</td>\n",
       "      <td>1.770</td>\n",
       "      <td>2.44</td>\n",
       "      <td>16.8</td>\n",
       "      <td>104.0</td>\n",
       "      <td>2.800</td>\n",
       "      <td>2.980</td>\n",
       "      <td>0.29</td>\n",
       "      <td>1.870</td>\n",
       "      <td>5.40</td>\n",
       "      <td>1.070</td>\n",
       "      <td>3.17</td>\n",
       "      <td>1095.0</td>\n",
       "    </tr>\n",
       "    <tr>\n",
       "      <th>1</th>\n",
       "      <td>12.290</td>\n",
       "      <td>1.610</td>\n",
       "      <td>2.24</td>\n",
       "      <td>20.0</td>\n",
       "      <td>88.0</td>\n",
       "      <td>2.200</td>\n",
       "      <td>2.030</td>\n",
       "      <td>0.37</td>\n",
       "      <td>1.610</td>\n",
       "      <td>2.90</td>\n",
       "      <td>1.040</td>\n",
       "      <td>2.83</td>\n",
       "      <td>495.0</td>\n",
       "    </tr>\n",
       "    <tr>\n",
       "      <th>2</th>\n",
       "      <td>13.165</td>\n",
       "      <td>3.265</td>\n",
       "      <td>2.38</td>\n",
       "      <td>21.0</td>\n",
       "      <td>97.0</td>\n",
       "      <td>1.635</td>\n",
       "      <td>0.685</td>\n",
       "      <td>0.47</td>\n",
       "      <td>1.105</td>\n",
       "      <td>7.55</td>\n",
       "      <td>0.665</td>\n",
       "      <td>1.66</td>\n",
       "      <td>627.5</td>\n",
       "    </tr>\n",
       "  </tbody>\n",
       "</table>\n",
       "</div>"
      ],
      "text/plain": [
       "        alcohol  malic_acid   ash  alcalinity_of_ash  magnesium  \\\n",
       "target                                                            \n",
       "0        13.750       1.770  2.44               16.8      104.0   \n",
       "1        12.290       1.610  2.24               20.0       88.0   \n",
       "2        13.165       3.265  2.38               21.0       97.0   \n",
       "\n",
       "        total_phenols  flavanoids  nonflavanoid_phenols  proanthocyanins  \\\n",
       "target                                                                     \n",
       "0               2.800       2.980                  0.29            1.870   \n",
       "1               2.200       2.030                  0.37            1.610   \n",
       "2               1.635       0.685                  0.47            1.105   \n",
       "\n",
       "        color_intensity    hue  od280/od315_of_diluted_wines  proline  \n",
       "target                                                                 \n",
       "0                  5.40  1.070                          3.17   1095.0  \n",
       "1                  2.90  1.040                          2.83    495.0  \n",
       "2                  7.55  0.665                          1.66    627.5  "
      ]
     },
     "execution_count": 11,
     "metadata": {},
     "output_type": "execute_result"
    }
   ],
   "source": [
    "df.groupby('target').median()"
   ]
  },
  {
   "cell_type": "markdown",
   "id": "2678d4fc-52a5-4584-ae49-a491a11dcd8b",
   "metadata": {},
   "source": [
    "**Note** The above code prints the median of each numerical feature grouped by each categorical feature"
   ]
  },
  {
   "cell_type": "markdown",
   "id": "7ab5216e-ca19-4ca0-9ecf-78a3f4220906",
   "metadata": {},
   "source": [
    "**Question 1(d)** Create a scatter plot for the pair of distinct numerical features with the highest \n",
    "correlation. Include the code in your report. "
   ]
  },
  {
   "cell_type": "code",
   "execution_count": 12,
   "id": "29336552-1c96-4692-baaf-2cbf3aae1c99",
   "metadata": {
    "tags": []
   },
   "outputs": [],
   "source": [
    "#Finding and sorting the correlation values\n",
    "import matplotlib.pyplot as plt\n",
    "corr=df.corr()\n",
    "sorted_corr= corr.unstack().sort_values()"
   ]
  },
  {
   "cell_type": "code",
   "execution_count": 13,
   "id": "5a9a34d0-7965-4369-aa6d-f7a4b066fe5a",
   "metadata": {
    "tags": []
   },
   "outputs": [
    {
     "name": "stdout",
     "output_type": "stream",
     "text": [
      "proanthocyanins               total_phenols                   0.612413\n",
      "total_phenols                 proanthocyanins                 0.612413\n",
      "alcohol                       proline                         0.643720\n",
      "proline                       alcohol                         0.643720\n",
      "flavanoids                    proanthocyanins                 0.652692\n",
      "proanthocyanins               flavanoids                      0.652692\n",
      "total_phenols                 od280/od315_of_diluted_wines    0.699949\n",
      "od280/od315_of_diluted_wines  total_phenols                   0.699949\n",
      "                              flavanoids                      0.787194\n",
      "flavanoids                    od280/od315_of_diluted_wines    0.787194\n",
      "total_phenols                 flavanoids                      0.864564\n",
      "flavanoids                    total_phenols                   0.864564\n",
      "nonflavanoid_phenols          nonflavanoid_phenols            1.000000\n",
      "hue                           hue                             1.000000\n",
      "alcalinity_of_ash             alcalinity_of_ash               1.000000\n",
      "target                        target                          1.000000\n",
      "alcohol                       alcohol                         1.000000\n",
      "malic_acid                    malic_acid                      1.000000\n",
      "od280/od315_of_diluted_wines  od280/od315_of_diluted_wines    1.000000\n",
      "ash                           ash                             1.000000\n",
      "magnesium                     magnesium                       1.000000\n",
      "total_phenols                 total_phenols                   1.000000\n",
      "color_intensity               color_intensity                 1.000000\n",
      "flavanoids                    flavanoids                      1.000000\n",
      "proanthocyanins               proanthocyanins                 1.000000\n",
      "proline                       proline                         1.000000\n",
      "dtype: float64\n"
     ]
    }
   ],
   "source": [
    "#Print few last of the correlation values\n",
    "print(sorted_corr[170:200])"
   ]
  },
  {
   "cell_type": "markdown",
   "id": "1492a95f-6fdb-4155-b316-ad414602f283",
   "metadata": {},
   "source": [
    "**Note** After printing the sorted correlation array it is clear that the pair that has the maximum correlation value is flavanoids & total_phenols with corr value of 0.864564 hecne we will be plotting the scatter plot for it"
   ]
  },
  {
   "cell_type": "code",
   "execution_count": 14,
   "id": "1db8225e-8e61-4f7e-8e52-8e7426a98fc3",
   "metadata": {
    "tags": []
   },
   "outputs": [
    {
     "data": {
      "image/png": "[encoded data removed]",
      "text/plain": [
       "<Figure size 640x480 with 1 Axes>"
      ]
     },
     "metadata": {},
     "output_type": "display_data"
    }
   ],
   "source": [
    "#Plotting the scatter plot for the above pair\n",
    "plt.scatter(df['flavanoids'],df['total_phenols'])\n",
    "plt.title(\"corr plot of max value\")\n",
    "plt.xlabel(\"flavanoids\", fontsize=18)\n",
    "plt.ylabel(\"total_phenols\", fontsize=18)\n",
    "plt.xlim(0,5)\n",
    "plt.ylim(0,5)\n",
    "plt.show()"
   ]
  },
  {
   "cell_type": "markdown",
   "id": "eb59955f-c8ff-4860-8db7-88b1e3e3e682",
   "metadata": {},
   "source": [
    "**Question(2)** 2) Consider the following sales data: \r\n",
    " [5, 20, 1, 6, 13, 8, 9, 11, 17, 7, 2, 12] \r\n",
    "Apply the following binning techniques on the data, assuming 3 bins in each case:\r\n",
    "- Equal-frequency binning\r\n",
    "- Smoothing by bin boundaries "
   ]
  },
  {
   "cell_type": "markdown",
   "id": "055c79c8-b70a-4f70-9a3c-281a08413594",
   "metadata": {},
   "source": [
    "**Solution 2)** Considering the following sales data: [5, 20, 1, 6, 13, 8, 9, 11, 17, 7, 2, 12], I am applying following binning techniques (assuming 3 bins).\n",
    "\n",
    "Equal-frequency binning\n",
    "Smoothing by bin boundaries"
   ]
  },
  {
   "cell_type": "markdown",
   "id": "19787e5e-b6a4-4cc1-9f56-956fe6d62c7c",
   "metadata": {},
   "source": [
    "*Applying Equal-frequency binning on the above data:-*\n",
    "\n",
    "In order apply equal frequency binning We need to sort the data first. On sorting the data in ascending order the data would look like this. [1, 2, 5, 6, 7, 8, 9, 11, 12, 13, 17, 20]\n",
    "Now we need to find the frequency for the each bin and since we are using equal-frequency bininng we can calculate frequency for one bin by following formulae 'length of array'/bin ie 12/3 = 4.\n",
    "Now that we have found frequency we can create bucket accordingly. The result will be like this:-\n",
    "[[1, 2, 5, 6], [7, 8, 9, 11], [12, 13, 17, 20]]\n",
    "\n",
    "*Smoothing by bin boundaries:-*\n",
    "\n",
    "In this case we have to replace the values to their closest min or max values when compaired with their bin boundries. Eg- For [1,2,5,6], 2 should be replaced by 1 because that is close on the min value boundry. 5 should be replaced by 6 because that is close on the max value boundry.After  Applyign this to the above dataset The result will look like this [[1, 1, 6, 6], [7, 7, 11, 11], [12, 12, 20, 20]]"
   ]
  },
  {
   "cell_type": "markdown",
   "id": "61d3143f-5990-4e53-b0f5-b1d2eb45c1ea",
   "metadata": {},
   "source": [
    "**Question(3)** Load the file country-income.csv which includes numerical and categorical features.\n",
    "Perform data cleaning to replace any NaN values with the mean value of that particular\n",
    "feature. Then replace any categorical features with numerical features. Display the\n",
    "resulting dataset. You can use the sklearn.impute and sklearn.preprocessing\n",
    "packages to assist you. Include the code in your report."
   ]
  },
  {
   "cell_type": "code",
   "execution_count": 15,
   "id": "608c188c-5fc6-452e-9c37-a46d8b92e750",
   "metadata": {
    "tags": []
   },
   "outputs": [
    {
     "data": {
      "text/html": [
       "<div>\n",
       "<style scoped>\n",
       "    .dataframe tbody tr th:only-of-type {\n",
       "        vertical-align: middle;\n",
       "    }\n",
       "\n",
       "    .dataframe tbody tr th {\n",
       "        vertical-align: top;\n",
       "    }\n",
       "\n",
       "    .dataframe thead th {\n",
       "        text-align: right;\n",
       "    }\n",
       "</style>\n",
       "<table border=\"1\" class=\"dataframe\">\n",
       "  <thead>\n",
       "    <tr style=\"text-align: right;\">\n",
       "      <th></th>\n",
       "      <th>Region</th>\n",
       "      <th>Age</th>\n",
       "      <th>Income</th>\n",
       "      <th>Online Shopper</th>\n",
       "    </tr>\n",
       "  </thead>\n",
       "  <tbody>\n",
       "    <tr>\n",
       "      <th>0</th>\n",
       "      <td>India</td>\n",
       "      <td>49.0</td>\n",
       "      <td>86400.0</td>\n",
       "      <td>No</td>\n",
       "    </tr>\n",
       "    <tr>\n",
       "      <th>1</th>\n",
       "      <td>Brazil</td>\n",
       "      <td>32.0</td>\n",
       "      <td>57600.0</td>\n",
       "      <td>Yes</td>\n",
       "    </tr>\n",
       "    <tr>\n",
       "      <th>2</th>\n",
       "      <td>USA</td>\n",
       "      <td>35.0</td>\n",
       "      <td>64800.0</td>\n",
       "      <td>No</td>\n",
       "    </tr>\n",
       "    <tr>\n",
       "      <th>3</th>\n",
       "      <td>Brazil</td>\n",
       "      <td>43.0</td>\n",
       "      <td>73200.0</td>\n",
       "      <td>No</td>\n",
       "    </tr>\n",
       "    <tr>\n",
       "      <th>4</th>\n",
       "      <td>USA</td>\n",
       "      <td>45.0</td>\n",
       "      <td>NaN</td>\n",
       "      <td>Yes</td>\n",
       "    </tr>\n",
       "    <tr>\n",
       "      <th>5</th>\n",
       "      <td>India</td>\n",
       "      <td>40.0</td>\n",
       "      <td>69600.0</td>\n",
       "      <td>Yes</td>\n",
       "    </tr>\n",
       "    <tr>\n",
       "      <th>6</th>\n",
       "      <td>Brazil</td>\n",
       "      <td>NaN</td>\n",
       "      <td>62400.0</td>\n",
       "      <td>No</td>\n",
       "    </tr>\n",
       "    <tr>\n",
       "      <th>7</th>\n",
       "      <td>India</td>\n",
       "      <td>53.0</td>\n",
       "      <td>94800.0</td>\n",
       "      <td>Yes</td>\n",
       "    </tr>\n",
       "    <tr>\n",
       "      <th>8</th>\n",
       "      <td>USA</td>\n",
       "      <td>55.0</td>\n",
       "      <td>99600.0</td>\n",
       "      <td>No</td>\n",
       "    </tr>\n",
       "    <tr>\n",
       "      <th>9</th>\n",
       "      <td>India</td>\n",
       "      <td>42.0</td>\n",
       "      <td>80400.0</td>\n",
       "      <td>Yes</td>\n",
       "    </tr>\n",
       "  </tbody>\n",
       "</table>\n",
       "</div>"
      ],
      "text/plain": [
       "   Region   Age   Income Online Shopper\n",
       "0   India  49.0  86400.0             No\n",
       "1  Brazil  32.0  57600.0            Yes\n",
       "2     USA  35.0  64800.0             No\n",
       "3  Brazil  43.0  73200.0             No\n",
       "4     USA  45.0      NaN            Yes\n",
       "5   India  40.0  69600.0            Yes\n",
       "6  Brazil   NaN  62400.0             No\n",
       "7   India  53.0  94800.0            Yes\n",
       "8     USA  55.0  99600.0             No\n",
       "9   India  42.0  80400.0            Yes"
      ]
     },
     "execution_count": 15,
     "metadata": {},
     "output_type": "execute_result"
    }
   ],
   "source": [
    "#Load and print the country dataset\n",
    "country = pd.read_csv('./country-income.csv')\n",
    "country"
   ]
  },
  {
   "cell_type": "code",
   "execution_count": 16,
   "id": "607fc450-1b9e-4ce4-84a5-09eb7374fca4",
   "metadata": {
    "tags": []
   },
   "outputs": [],
   "source": [
    "import numpy as np\n",
    "from sklearn.impute import SimpleImputer\n",
    "from sklearn.preprocessing import LabelEncoder\n",
    "\n",
    "# Creating a instance of label Encoder.\n",
    "le = LabelEncoder()\n",
    "\n",
    "#Converting the string values to the numeric values\n",
    "country['Region'] = le.fit_transform(country['Region'])\n",
    "country['Online Shopper'] = le.fit_transform(country['Online Shopper'])"
   ]
  },
  {
   "cell_type": "code",
   "execution_count": 17,
   "id": "d4760ecb-ac05-4e9a-8602-6a5b5279e9ac",
   "metadata": {},
   "outputs": [],
   "source": [
    "#Using simple imputers to replace Nan values\n",
    "imp = SimpleImputer(strategy='mean')\n",
    "country['Age'] = imp.fit_transform(country['Age'].values.reshape(-1, 1) )\n",
    "country['Income'] = imp.fit_transform(country['Income'].values.reshape(-1, 1) )"
   ]
  },
  {
   "cell_type": "code",
   "execution_count": 18,
   "id": "aa75b570-03c5-46eb-8626-a0b4b4ebea5b",
   "metadata": {
    "tags": []
   },
   "outputs": [
    {
     "data": {
      "text/html": [
       "<div>\n",
       "<style scoped>\n",
       "    .dataframe tbody tr th:only-of-type {\n",
       "        vertical-align: middle;\n",
       "    }\n",
       "\n",
       "    .dataframe tbody tr th {\n",
       "        vertical-align: top;\n",
       "    }\n",
       "\n",
       "    .dataframe thead th {\n",
       "        text-align: right;\n",
       "    }\n",
       "</style>\n",
       "<table border=\"1\" class=\"dataframe\">\n",
       "  <thead>\n",
       "    <tr style=\"text-align: right;\">\n",
       "      <th></th>\n",
       "      <th>Region</th>\n",
       "      <th>Age</th>\n",
       "      <th>Income</th>\n",
       "      <th>Online Shopper</th>\n",
       "    </tr>\n",
       "  </thead>\n",
       "  <tbody>\n",
       "    <tr>\n",
       "      <th>0</th>\n",
       "      <td>1</td>\n",
       "      <td>49.000000</td>\n",
       "      <td>86400.000000</td>\n",
       "      <td>0</td>\n",
       "    </tr>\n",
       "    <tr>\n",
       "      <th>1</th>\n",
       "      <td>0</td>\n",
       "      <td>32.000000</td>\n",
       "      <td>57600.000000</td>\n",
       "      <td>1</td>\n",
       "    </tr>\n",
       "    <tr>\n",
       "      <th>2</th>\n",
       "      <td>2</td>\n",
       "      <td>35.000000</td>\n",
       "      <td>64800.000000</td>\n",
       "      <td>0</td>\n",
       "    </tr>\n",
       "    <tr>\n",
       "      <th>3</th>\n",
       "      <td>0</td>\n",
       "      <td>43.000000</td>\n",
       "      <td>73200.000000</td>\n",
       "      <td>0</td>\n",
       "    </tr>\n",
       "    <tr>\n",
       "      <th>4</th>\n",
       "      <td>2</td>\n",
       "      <td>45.000000</td>\n",
       "      <td>76533.333333</td>\n",
       "      <td>1</td>\n",
       "    </tr>\n",
       "    <tr>\n",
       "      <th>5</th>\n",
       "      <td>1</td>\n",
       "      <td>40.000000</td>\n",
       "      <td>69600.000000</td>\n",
       "      <td>1</td>\n",
       "    </tr>\n",
       "    <tr>\n",
       "      <th>6</th>\n",
       "      <td>0</td>\n",
       "      <td>43.777778</td>\n",
       "      <td>62400.000000</td>\n",
       "      <td>0</td>\n",
       "    </tr>\n",
       "    <tr>\n",
       "      <th>7</th>\n",
       "      <td>1</td>\n",
       "      <td>53.000000</td>\n",
       "      <td>94800.000000</td>\n",
       "      <td>1</td>\n",
       "    </tr>\n",
       "    <tr>\n",
       "      <th>8</th>\n",
       "      <td>2</td>\n",
       "      <td>55.000000</td>\n",
       "      <td>99600.000000</td>\n",
       "      <td>0</td>\n",
       "    </tr>\n",
       "    <tr>\n",
       "      <th>9</th>\n",
       "      <td>1</td>\n",
       "      <td>42.000000</td>\n",
       "      <td>80400.000000</td>\n",
       "      <td>1</td>\n",
       "    </tr>\n",
       "  </tbody>\n",
       "</table>\n",
       "</div>"
      ],
      "text/plain": [
       "   Region        Age        Income  Online Shopper\n",
       "0       1  49.000000  86400.000000               0\n",
       "1       0  32.000000  57600.000000               1\n",
       "2       2  35.000000  64800.000000               0\n",
       "3       0  43.000000  73200.000000               0\n",
       "4       2  45.000000  76533.333333               1\n",
       "5       1  40.000000  69600.000000               1\n",
       "6       0  43.777778  62400.000000               0\n",
       "7       1  53.000000  94800.000000               1\n",
       "8       2  55.000000  99600.000000               0\n",
       "9       1  42.000000  80400.000000               1"
      ]
     },
     "execution_count": 18,
     "metadata": {},
     "output_type": "execute_result"
    }
   ],
   "source": [
    "#Printing the country dataset to show that Nan values are replaced\n",
    "country"
   ]
  },
  {
   "cell_type": "markdown",
   "id": "04fc61d6-0624-43ba-9458-8c6bf8a62697",
   "metadata": {},
   "source": [
    "**Code Explained** First, I print the dataset to see that Age and Income columns contain Nan Values and Region and Online_Shopper are string values.\n",
    "In the code written below, I have first converted the categorial features Region and Online_Shopper into numerical values using the label encoder. I then use simpleimputer to replace Nan values of these 2 columns and reassign them to country. Lastly I am printing the output to shoe that Nan values have been replaced.\n"
   ]
  },
  {
   "cell_type": "markdown",
   "id": "0b8cb6e1-0927-4031-8a03-cf31285d4544",
   "metadata": {},
   "source": [
    "**Question 4** Load the file shoesize.csv, which includes measurements of shoe size and height (in\n",
    "inches) for 408 subjects, both female and male. Plot the scatterplots of shoe size versus\n",
    "height for female and male subjects separately. Compute the Pearson's correlation\n",
    "coefficient of shoe size versus height for female and male subjects separately. What \n",
    "can be inferred by the scatterplots and computed correlation coefficients? Include the \n",
    "code in your report. "
   ]
  },
  {
   "cell_type": "code",
   "execution_count": 19,
   "id": "c9e9d326-b569-4945-b973-cc1e85455ba8",
   "metadata": {},
   "outputs": [],
   "source": [
    "#Read Shoesize dataset\n",
    "shoeSize=pd.read_csv(\"./shoesize.csv\")"
   ]
  },
  {
   "cell_type": "code",
   "execution_count": 20,
   "id": "8437a9a0-0f7d-43f8-8d72-05609586f3af",
   "metadata": {
    "tags": []
   },
   "outputs": [
    {
     "data": {
      "text/html": [
       "<div>\n",
       "<style scoped>\n",
       "    .dataframe tbody tr th:only-of-type {\n",
       "        vertical-align: middle;\n",
       "    }\n",
       "\n",
       "    .dataframe tbody tr th {\n",
       "        vertical-align: top;\n",
       "    }\n",
       "\n",
       "    .dataframe thead th {\n",
       "        text-align: right;\n",
       "    }\n",
       "</style>\n",
       "<table border=\"1\" class=\"dataframe\">\n",
       "  <thead>\n",
       "    <tr style=\"text-align: right;\">\n",
       "      <th></th>\n",
       "      <th>Index</th>\n",
       "      <th>Gender</th>\n",
       "      <th>Size</th>\n",
       "      <th>Height</th>\n",
       "    </tr>\n",
       "  </thead>\n",
       "  <tbody>\n",
       "    <tr>\n",
       "      <th>0</th>\n",
       "      <td>1</td>\n",
       "      <td>F</td>\n",
       "      <td>5.5</td>\n",
       "      <td>60.0</td>\n",
       "    </tr>\n",
       "    <tr>\n",
       "      <th>1</th>\n",
       "      <td>2</td>\n",
       "      <td>F</td>\n",
       "      <td>6.0</td>\n",
       "      <td>60.0</td>\n",
       "    </tr>\n",
       "    <tr>\n",
       "      <th>2</th>\n",
       "      <td>3</td>\n",
       "      <td>F</td>\n",
       "      <td>7.0</td>\n",
       "      <td>60.0</td>\n",
       "    </tr>\n",
       "    <tr>\n",
       "      <th>3</th>\n",
       "      <td>4</td>\n",
       "      <td>F</td>\n",
       "      <td>8.0</td>\n",
       "      <td>60.0</td>\n",
       "    </tr>\n",
       "    <tr>\n",
       "      <th>4</th>\n",
       "      <td>5</td>\n",
       "      <td>F</td>\n",
       "      <td>8.0</td>\n",
       "      <td>60.0</td>\n",
       "    </tr>\n",
       "  </tbody>\n",
       "</table>\n",
       "</div>"
      ],
      "text/plain": [
       "   Index Gender  Size  Height\n",
       "0      1      F   5.5    60.0\n",
       "1      2      F   6.0    60.0\n",
       "2      3      F   7.0    60.0\n",
       "3      4      F   8.0    60.0\n",
       "4      5      F   8.0    60.0"
      ]
     },
     "execution_count": 20,
     "metadata": {},
     "output_type": "execute_result"
    }
   ],
   "source": [
    "shoeSize.head()"
   ]
  },
  {
   "cell_type": "code",
   "execution_count": 21,
   "id": "e871f521-033c-49ec-bce6-692e1a9b8cb1",
   "metadata": {
    "tags": []
   },
   "outputs": [
    {
     "data": {
      "text/plain": [
       "<seaborn.axisgrid.PairGrid at 0x7fac58cf85e0>"
      ]
     },
     "execution_count": 21,
     "metadata": {},
     "output_type": "execute_result"
    },
    {
     "data": {
      "image/png": "[encoded data removed]",
      "text/plain": [
       "<Figure size 562.236x500 with 6 Axes>"
      ]
     },
     "metadata": {},
     "output_type": "display_data"
    }
   ],
   "source": [
    "#Plotting the pairplot to clearly identify the relation between size and height of both genders\n",
    "import seaborn as sns\n",
    "sns.pairplot(shoeSize,vars=['Size','Height'],hue='Gender',x_vars=(shoeSize['Size']),y_vars=(shoeSize['Height']))"
   ]
  },
  {
   "cell_type": "code",
   "execution_count": 22,
   "id": "aad77d24-9b79-4c9d-b3a5-dd5cd8049618",
   "metadata": {},
   "outputs": [
    {
     "data": {
      "image/png": "[encoded data removed]",
      "text/plain": [
       "<Figure size 1500x1000 with 2 Axes>"
      ]
     },
     "metadata": {},
     "output_type": "display_data"
    }
   ],
   "source": [
    "#Plotting the scatterplots of height anf size for both genders\n",
    "dm= shoeSize[shoeSize['Gender']=='F']\n",
    "dm1= shoeSize[shoeSize['Gender']=='M']\n",
    "fig = plt.figure(figsize=(15,10))\n",
    "\n",
    "plt.subplot(2, 2, 1)\n",
    "plt.xlabel('Height')\n",
    "plt.ylabel('Size')\n",
    "plt.title('Scatterplot of Height and Size of Females')\n",
    "plt.plot(dm['Size'], dm['Height'], 'o')\n",
    "\n",
    "plt.subplot(2, 2, 2)\n",
    "plt.xlabel('Height')\n",
    "plt.ylabel('Size')\n",
    "plt.title('Scatterplot of Height and Size of Males')\n",
    "plt.plot(dm1['Size'], dm1['Height'], 'o')\n",
    "\n",
    "plt.show()"
   ]
  },
  {
   "cell_type": "code",
   "execution_count": 23,
   "id": "6f140c0b-5dc5-4164-9cd5-4af7205a0b54",
   "metadata": {},
   "outputs": [
    {
     "name": "stdout",
     "output_type": "stream",
     "text": [
      "0.7078119417143971 \n",
      " 0.7677093547300977\n"
     ]
    }
   ],
   "source": [
    "#Calculating and printing the pearson coefficient\n",
    "from scipy.stats import pearsonr\n",
    "\n",
    "corr0 = pearsonr(dm['Size'], dm['Height'])\n",
    "corr1 = pearsonr(dm1['Size'], dm1['Height'])\n",
    "\n",
    "print(corr0[0],'\\n',corr1[0])"
   ]
  },
  {
   "cell_type": "markdown",
   "id": "1f29e0ff-2430-4fa1-a7eb-d0b37324a7bc",
   "metadata": {},
   "source": [
    "**code explained** form the scatterplots We can infer that relationship between height and size is linear, the height increases as the size increases for both the subjects male and female.which becomes clearer further after seeing the pairplot \n",
    "\r\n",
    "The similar inference can be made by t e values of the Pearson's correlation coefficient for Male and Female subje on the basis of following points.\n",
    "1.n\n",
    "Positive value of Pearson's correlation coefficient means there exist a relationship between attribute\n",
    "2.\r\n",
    "\r\n",
    "The value of the Pearson's correlation coefficient issecto l,oitases ahows strong relation between the two atutestrib i.e. if one attribute is increased the other values incre oos too."
   ]
  },
  {
   "cell_type": "markdown",
   "id": "0cf056d3-e8bb-4033-88e7-0132b2bf2aa7",
   "metadata": {
    "tags": []
   },
   "source": [
    "5) Using the wine dataset from question 1, perform Principal Component Analysis (PCA)\n",
    "with 2 components. Transform the data and plot the scatterplot of all samples along the \n",
    "two principal components, color-coded according to the \"target\" column (this column is \n",
    "the class and should not be used in the PCA analysis). What insights can you obtain \n",
    "by viewing the scatterplot of the principal components? Can you easily distinguish the \n",
    "samples that belong to one class from the samples that belong to another class and so \n",
    "on? In other words, are the different classes (quite) distinctive one from the other, or is \n",
    "there a lot of overlap? If it is the latter, then why is this happening? What can be done \n",
    "to the data prior to performing PCA in order to alleviate this issue? Do this action first \n",
    "and then perform PCA with 2 components, transform the data and plot the scatterplot \n",
    "of all samples along these two principal components, color-coded according to the \n",
    "\"target\" column. Now are the different classes (quite) distinctive one from the other? \n",
    "Include the code in your report."
   ]
  },
  {
   "cell_type": "code",
   "execution_count": 24,
   "id": "3955ad8c-db03-4523-834b-320b030e2997",
   "metadata": {},
   "outputs": [
    {
     "data": {
      "image/png": "[encoded data removed]",
      "text/plain": [
       "<Figure size 800x600 with 1 Axes>"
      ]
     },
     "metadata": {},
     "output_type": "display_data"
    }
   ],
   "source": [
    "from sklearn.decomposition import PCA\n",
    "#Defining the number of components\n",
    "numComponents = 2\n",
    "pca = PCA(n_components=numComponents)\n",
    "#Performing PCA and transforming our dataset\n",
    "pca.fit(df)\n",
    "\n",
    "projected = pca.transform(df)\n",
    "projected = pd.DataFrame(projected,columns=['pc1','pc2'],index=range(0,len(df)))\n",
    "projected['target'] = df['target']\n",
    "\n",
    "plt.figure(figsize=(8, 6))\n",
    "targets = [0, 1, 2]  # Three classes in the wine dataset\n",
    "colors = ['r', 'g', 'b'] #Defining labels for each class\n",
    "labels = ['Class 0', 'Class 1', 'Class 2'] #Defining labels\n",
    "\n",
    "#Plotting the scatter plot for each target value [0,1,2]\n",
    "for target, color, label in zip(targets, colors, labels):\n",
    "    indices_to_keep = projected['target'] == target\n",
    "    plt.scatter(projected.loc[indices_to_keep, 'pc1'],\n",
    "                projected.loc[indices_to_keep, 'pc2'],\n",
    "                c=color, label=label)\n",
    "\n",
    "plt.xlabel('PC1')\n",
    "plt.ylabel('PC2')\n",
    "plt.legend()\n",
    "plt.title('PCA Scatter Plot of wine dataset with 2 componenets')\n",
    "plt.show()"
   ]
  },
  {
   "cell_type": "markdown",
   "id": "413f4142-0723-49c6-a5ea-221eef85e9e9",
   "metadata": {},
   "source": [
    "**Note** The above code performs PCA on the wine dataset and plots a scatterplot of the two principal components, color-coded by class.Although we can distinguish the samples that belong to a particular class due to the color coding but we can observe the relationships between the classes in this initial scatterplot and there is a lot of overlap between the 2 classes indicated by 2 colors blue and green."
   ]
  },
  {
   "cell_type": "code",
   "execution_count": 25,
   "id": "780b5e48-20c4-4f70-967c-6d4a5d479acc",
   "metadata": {},
   "outputs": [
    {
     "data": {
      "image/png": "[encoded data removed]",
      "text/plain": [
       "<Figure size 800x600 with 1 Axes>"
      ]
     },
     "metadata": {},
     "output_type": "display_data"
    }
   ],
   "source": [
    "from sklearn.preprocessing import StandardScaler\n",
    "\n",
    "# Standardize the data\n",
    "scaler = StandardScaler()\n",
    "X_scaled = scaler.fit_transform(df)\n",
    "\n",
    "# Perform PCA with 2 components on the standardized data\n",
    "pca = PCA(n_components=2)\n",
    "X_pca = pca.fit_transform(X_scaled)\n",
    "\n",
    "# Create a DataFrame for plotting\n",
    "pca = pd.DataFrame(data=X_pca, columns=['Principal Component 1', 'Principal Component 2'])\n",
    "pca['Target'] = df['target']\n",
    "\n",
    "# Plot the scatterplot\n",
    "plt.figure(figsize=(8, 6))\n",
    "for target, color, label in zip(targets, colors, labels):\n",
    "    indices_to_keep = pca['Target'] == target\n",
    "    plt.scatter(pca.loc[indices_to_keep, 'Principal Component 1'],\n",
    "                pca.loc[indices_to_keep, 'Principal Component 2'],\n",
    "                c=color, label=label)\n",
    "\n",
    "plt.xlabel('Principal Component 1')\n",
    "plt.ylabel('Principal Component 2')\n",
    "plt.legend()\n",
    "plt.title('PCA Scatterplot (Standardized Data)')\n",
    "plt.show()\n"
   ]
  },
  {
   "cell_type": "markdown",
   "id": "0f481d8a-b380-494b-87b3-33be1e685682",
   "metadata": {},
   "source": [
    "**Note** One of the reason the classes are overlapping might be the non-linear model. So, we have used StandardScaler to fit and transform the above dataset  to reduce the overlap."
   ]
  },
  {
   "cell_type": "markdown",
   "id": "900b7156-34e0-4aab-b6e0-c74698d51849",
   "metadata": {},
   "source": [
    "**Question(6)** In Lab session 3 (Data Exploration and Data Visualisation), in subsection 1.9 you had \n",
    "created and visualised a heatmap for the distance matrix for the graduation_rate.csv. \n",
    "You may have noticed that the distance matrix visualisation is not very informative. \n",
    "However, it is still possible to infer that the average distance between students whose \n",
    "parents only have some high school education and students whose parents have a \n",
    "master's degree is larger than the average distance between students whose parents \n",
    "only have some high school education. Explain how this inference is possible from the \n",
    "visualisation."
   ]
  },
  {
   "cell_type": "markdown",
   "id": "bba049a1-7e1b-4ca6-94cb-887876cd2bc5",
   "metadata": {},
   "source": [
    "**Solution** Observing the upper diagonal in the distance matrix indicates that there exist a pattern. The top-right side shows the data for students with parents holding master's degrees, which is clear from the darker shading, indicating that Euclidean distances between these pairs is high. However, the left side represents students with parents having some high school education and indicated by a faded shade, denoting lower distances. Therefore, if the average distance between students with parents holding only some high school education is denoted as Y, and the average distance between students with parents holding master's degrees is denoted as X, it can be inferred that X is greater than Y."
   ]
  },
  {
   "cell_type": "markdown",
   "id": "2b1e8968-981e-4fe8-acc9-98f97fb4d538",
   "metadata": {},
   "source": [
    "**Question7(a)** Use the file country-income.csv and perform the following:\r",
    " Load the CSV file using Cubes, create a JSON file for the data cube model, and \r\n",
    "create a data cube for the data. Use as dimensions the region, age, and online \r\n",
    "shopper fields. Use as measure the income. Define aggregate functions in the data \r\n",
    "cube model for the total, average, minimum, and maximum income. Include the\r\n",
    "code in your report (and show the files created)."
   ]
  },
  {
   "cell_type": "code",
   "execution_count": 26,
   "id": "dfd397a7-86ed-4605-8db7-6ce52b4b3f7c",
   "metadata": {},
   "outputs": [
    {
     "name": "stdout",
     "output_type": "stream",
     "text": [
      "Requirement already satisfied: cubes in /opt/conda/lib/python3.10/site-packages (1.1)\n",
      "Requirement already satisfied: python-dateutil in /opt/conda/lib/python3.10/site-packages (from cubes) (2.8.2)\n",
      "Requirement already satisfied: jsonschema in /opt/conda/lib/python3.10/site-packages (from cubes) (4.19.2)\n",
      "Requirement already satisfied: expressions>=0.2.3 in /opt/conda/lib/python3.10/site-packages (from cubes) (0.2.3)\n",
      "Requirement already satisfied: grako>=3.9.3 in /opt/conda/lib/python3.10/site-packages (from expressions>=0.2.3->cubes) (3.99.9)\n",
      "Requirement already satisfied: attrs>=22.2.0 in /opt/conda/lib/python3.10/site-packages (from jsonschema->cubes) (23.1.0)\n",
      "Requirement already satisfied: jsonschema-specifications>=2023.03.6 in /opt/conda/lib/python3.10/site-packages (from jsonschema->cubes) (2023.7.1)\n",
      "Requirement already satisfied: referencing>=0.28.4 in /opt/conda/lib/python3.10/site-packages (from jsonschema->cubes) (0.30.2)\n",
      "Requirement already satisfied: rpds-py>=0.7.1 in /opt/conda/lib/python3.10/site-packages (from jsonschema->cubes) (0.10.6)\n",
      "Requirement already satisfied: six>=1.5 in /opt/conda/lib/python3.10/site-packages (from python-dateutil->cubes) (1.16.0)\n",
      "Requirement already satisfied: sqlalchemy==1.3.20 in /opt/conda/lib/python3.10/site-packages (1.3.20)\n"
     ]
    }
   ],
   "source": [
    "!pip install cubes\n",
    "!pip install sqlalchemy==1.3.20\n",
    "from sqlalchemy import create_engine"
   ]
  },
  {
   "cell_type": "code",
   "execution_count": 27,
   "id": "5096944a-11ed-4ce0-b385-dd89f531fce1",
   "metadata": {},
   "outputs": [],
   "source": [
    "from cubes.tutorial.sql import create_table_from_csv\n",
    "from cubes import Workspace\n",
    "import pandas as pd\n",
    "#Crating the table using country-income.csv\n",
    "\n",
    "country=pd.read_csv(\"country-income.csv\")\n",
    "simple_imputer_obj = SimpleImputer(strategy='mean')\n",
    " \n",
    "# Apply Imputer on numerical column\n",
    "numerical_columns = country.select_dtypes(include=[np.number]).columns\n",
    "country[numerical_columns] = simple_imputer_obj.fit_transform(country[numerical_columns])\n",
    " \n",
    "country.to_csv('country-impute.csv', index=False)\n",
    "\n",
    "engine = create_engine('sqlite:///data.sqlite')\n",
    "create_table_from_csv(engine,\n",
    "                      \"country-impute.csv\",\n",
    "                      table_name=\"model\",\n",
    "                      fields=[\n",
    "                          (\"region\", \"string\"),\n",
    "                          (\"age\", \"integer\"),\n",
    "                          (\"income\", \"integer\"),\n",
    "                          (\"online_shopper\", \"string\")],\n",
    "                      create_id=True\n",
    "                     )"
   ]
  },
  {
   "cell_type": "markdown",
   "id": "9b4d8fd0-549a-4dcd-8cee-97f2ba68cf78",
   "metadata": {},
   "source": [
    "**Note** for every new session run in jupyter hub I am getting the following error \"cannot import name 'Mapping' from 'collections' (/opt/conda/lib/python3.10/collections/__init__.py)\" to fix the above code open the terminal and run the following command \"vi /opt/conda/lib/python3.10/site-packages/grako/grammars.py\" and change the following statement from from \"collections import defaultdict, Mapping\" to \"collections.abc import defaultdict, Mapping\" to fix the error"
   ]
  },
  {
   "cell_type": "code",
   "execution_count": 28,
   "id": "52b1a616-1691-44b2-a3ba-dc22beef9386",
   "metadata": {},
   "outputs": [],
   "source": [
    "#Defining the workshop and importing cubes from model.json\n",
    "workspace = Workspace()\n",
    "workspace.register_default_store(\"sql\", url=\"sqlite:///data.sqlite\")\n",
    "workspace.import_model(\"model.json\")\n",
    "cube = workspace.cube(\"model\")\n",
    "browser = workspace.browser(cube)"
   ]
  },
  {
   "cell_type": "markdown",
   "id": "03dde7b0-e8fe-4027-b99b-f665be256f8b",
   "metadata": {},
   "source": [
    "**The code for model.json is given below**"
   ]
  },
  {
   "cell_type": "markdown",
   "id": "4e50db69-1972-43ce-81e8-2d48e035e496",
   "metadata": {},
   "source": [
    "{\n",
    "  \"dimensions\": [\n",
    "    {\n",
    "      \"name\": \"region\",\n",
    "      \"role\": \"region\"\n",
    "    },\n",
    "    {\n",
    "      \"name\": \"age\",\n",
    "      \"role\": \"age\"\n",
    "    },\n",
    "    {\n",
    "      \"name\": \"income\",\n",
    "      \"role\": \"income\"\n",
    "    },\n",
    "    {\n",
    "      \"name\": \"online_shopper\",\n",
    "      \"role\": \"online_shopper\"\n",
    "    }\n",
    "  ],\n",
    "  \"cubes\": [\n",
    "    {\n",
    "      \"name\": \"model\",\n",
    "      \"dimensions\": [\n",
    "        \"region\",\n",
    "        \"online_shopper\",\n",
    "        \"age\"\n",
    "      ],\n",
    "      \"measures\": [\n",
    "        {\n",
    "          \"name\": \"income\",\n",
    "          \"label\": \"income\"\n",
    "        }\n",
    "      ],\n",
    "      \"aggregates\": [\n",
    "        {\n",
    "          \"name\": \"total_income\",\n",
    "          \"function\": \"sum\",\n",
    "          \"measure\": \"income\"\n",
    "        },\n",
    "        {\n",
    "          \"name\": \"min_income\",\n",
    "          \"function\": \"min\",\n",
    "          \"measure\": \"income\"\n",
    "        },\n",
    "        {\n",
    "          \"name\": \"max_income\",\n",
    "          \"function\": \"max\",\n",
    "          \"measure\": \"income\"\n",
    "        },\n",
    "        {\n",
    "          \"name\": \"avg_income\",\n",
    "          \"function\": \"avg\",\n",
    "          \"measure\": \"income\"\n",
    "        }\n",
    "      ]\n",
    "    }\n",
    "  ]\n",
    "}\n"
   ]
  },
  {
   "cell_type": "markdown",
   "id": "c4c0e0f2-ea8a-40c4-9394-39235ca82739",
   "metadata": {},
   "source": [
    "**Note** for every new session run in jupyter hub I am getting the following error \"cannot import name 'MutableMapping' from 'collections' (/opt/conda/lib/python3.10/collections/__init__.py)\" to fix the above code open the terminal and run the following command \"vi /opt/conda/lib/python3.10/site-packages/cubes/datastructures.py\" and change the following statement from from \"from collections import MutableMapping\" to \"from collections.abc import MutableMapping\" to fix the error"
   ]
  },
  {
   "cell_type": "markdown",
   "id": "451ae8ee-bc81-405e-a141-20060dfecba9",
   "metadata": {},
   "source": [
    "**Code Explanation** As mentioned in the question I have loaded the csv file using cubes and created datacube named model, inside model.json defined all the dimenssions,measure and aggrigate functions."
   ]
  },
  {
   "cell_type": "markdown",
   "id": "ddb9adc3-99fd-4a29-8913-08bade8b9e32",
   "metadata": {},
   "source": [
    "Solution 7.b) Using teh cube created above to perform following operations:-\n",
    "\n",
    "Aggregation on whole data cube.\n",
    "Aggregation on results per region.\n",
    "Aggregation on results per online shopping activity.\n",
    "Aggregation on results for all people aged between 40 and 50.\n",
    "Please find the code for the same below."
   ]
  },
  {
   "cell_type": "code",
   "execution_count": 29,
   "id": "93821b01-19a1-4e55-868b-0a2113aa8d0c",
   "metadata": {},
   "outputs": [
    {
     "name": "stdout",
     "output_type": "stream",
     "text": [
      "The result summary for the whole data\n",
      "{'total_income': 765333.3333333334, 'min_income': 57600, 'max_income': 99600, 'avg_income': 76533.33333333334}\n",
      "The total income is 765333.3333333334\n",
      "The average income is 76533.33333333334\n",
      "The minimum income is 57600\n",
      "The maximum income is 99600\n",
      "{'region': 'Brazil', 'total_income': 193200, 'min_income': 57600, 'max_income': 73200, 'avg_income': 64400.0}\n",
      "{'region': 'India', 'total_income': 331200, 'min_income': 69600, 'max_income': 94800, 'avg_income': 82800.0}\n",
      "{'region': 'USA', 'total_income': 240933.3333333333, 'min_income': 64800, 'max_income': 99600, 'avg_income': 80311.11111111111}\n"
     ]
    }
   ],
   "source": [
    "#Performing and printing the agrregations on the income measure\n",
    "result = browser.aggregate()\n",
    "print(\"The result summary for the whole data\")\n",
    "print(result.summary)\n",
    "print(\"The total income is \"+ str(result.summary[\"total_income\"]))\n",
    "print(\"The average income is \"+ str(result.summary[\"avg_income\"]))\n",
    "print(\"The minimum income is \"+ str(result.summary[\"min_income\"]))\n",
    "print(\"The maximum income is \"+ str(result.summary[\"max_income\"]))\n",
    "\n",
    "# Solution 7.b.ii) Result per region\n",
    "result = browser.aggregate(drilldown=[\"region\"])\n",
    "for record in result:\n",
    "    print(record)"
   ]
  },
  {
   "cell_type": "code",
   "execution_count": 30,
   "id": "c3c80a66-5bc2-46a3-bd1d-cdf619a5ca3c",
   "metadata": {},
   "outputs": [
    {
     "name": "stdout",
     "output_type": "stream",
     "text": [
      "{'online_shopper': 'No', 'total_income': 386400, 'min_income': 62400, 'max_income': 99600, 'avg_income': 77280.0}\n",
      "{'online_shopper': 'Yes', 'total_income': 378933.3333333333, 'min_income': 57600, 'max_income': 94800, 'avg_income': 75786.66666666666}\n"
     ]
    }
   ],
   "source": [
    "#Performing aggregatins as per online_shopper\n",
    "result = browser.aggregate(drilldown=[\"online_shopper\"])\n",
    "for record in result:\n",
    "    print(record)"
   ]
  },
  {
   "cell_type": "code",
   "execution_count": 31,
   "id": "5547f909-a8ef-4114-8bc9-b8089e8bea44",
   "metadata": {},
   "outputs": [
    {
     "name": "stdout",
     "output_type": "stream",
     "text": [
      "{'total_income': 448533.3333333333, 'min_income': 62400, 'max_income': 86400, 'avg_income': 74755.55555555555}\n"
     ]
    }
   ],
   "source": [
    "#Performing aggregation for the ages between 40 to 50\n",
    "import cubes as cubes\n",
    "cuts = [cubes.RangeCut(\"age\", [\"40\"], [\"50\"])]\n",
    "cell = cubes.Cell(cube, cuts)\n",
    "result = browser.aggregate(cell)\n",
    "print(result.summary)"
   ]
  },
  {
   "cell_type": "markdown",
   "id": "e0e9c104-5c8b-4388-93d1-9cdeb5cba836",
   "metadata": {},
   "source": [
    "**Code Explaination** As required by above question performed following operations and printed their respective outputs\n",
    "Aggregation on whole data cube.\n",
    "Aggregation on results per region.\n",
    "Aggregation on results per online shopping activity.\n",
    "Aggregation on results for all people aged between 40 and 50."
   ]
  },
  {
   "cell_type": "markdown",
   "id": "2452c176-ef14-4afe-a5d5-a949f015ea29",
   "metadata": {},
   "source": [
    "**Question 8** Consider a dataset that contains only two observations x1 = (1,2) and x2 = (−1,0).\r\n",
    "Suppose that the class of the first observation is y1 = 1 and that the class of the second \r\n",
    "observation is y2 = 0. How would a 1-nearest neighbour classifier based on the \r\n",
    "Euclidean distance classify the observation x3 = (3,2) and why? How would the same \r\n",
    "classifier classify the observation x4 = (0,1) and why?"
   ]
  },
  {
   "cell_type": "raw",
   "id": "a98d0b28-0753-4d62-8fae-9b885e79752f",
   "metadata": {},
   "source": [
    "Solution 8:\n",
    "\r",
    "Given s: X1=(1,2) with class y1=1 and X2=(-1,0) with class y2=\n",
    "0\n",
    "The euclidian distance between X1 and X3 is 2, and the distance between X2 and X3 is approximately 4.47, the 1-nearest neighbor classifier will be classifying X3 to the same class as nearest neighbour, from these results we can conclude that, X3 will be classified as y1=1."
   ]
  },
  {
   "cell_type": "raw",
   "id": "edc1b1b9-462c-4fab-a106-90070e525142",
   "metadata": {},
   "source": []
  }
 ],
 "metadata": {
  "kernelspec": {
   "display_name": "Python 3 (ipykernel)",
   "language": "python",
   "name": "python3"
  },
  "language_info": {
   "codemirror_mode": {
    "name": "ipython",
    "version": 3
   },
   "file_extension": ".py",
   "mimetype": "text/x-python",
   "name": "python",
   "nbconvert_exporter": "python",
   "pygments_lexer": "ipython3",
   "version": "3.10.13"
  }
 },
 "nbformat": 4,
 "nbformat_minor": 5
}
