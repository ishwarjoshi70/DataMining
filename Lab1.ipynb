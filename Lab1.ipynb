{
 "cells": [
  {
   "cell_type": "code",
   "execution_count": 9,
   "id": "847dd0cb-f8a6-4671-8718-affe576a2e9c",
   "metadata": {},
   "outputs": [],
   "source": [
    "import pandas as pd\n",
    "df = pd.read_csv('./LondonCars2014.csv')"
   ]
  },
  {
   "cell_type": "code",
   "execution_count": 17,
   "id": "0d7bffbe-1677-48d3-bd8e-4afd35aff517",
   "metadata": {},
   "outputs": [
    {
     "name": "stdout",
     "output_type": "stream",
     "text": [
      "<class 'pandas.core.frame.DataFrame'>\n",
      "RangeIndex: 9080 entries, 0 to 9079\n",
      "Data columns (total 11 columns):\n",
      " #   Column        Non-Null Count  Dtype \n",
      "---  ------        --------------  ----- \n",
      " 0   Make          9080 non-null   object\n",
      " 1   Model         9080 non-null   object\n",
      " 2   Year          9080 non-null   int64 \n",
      " 3   Mileage       9080 non-null   int64 \n",
      " 4   Price         9080 non-null   int64 \n",
      " 5   Body Style    9080 non-null   object\n",
      " 6   Ex Color      9080 non-null   object\n",
      " 7   In Color      9080 non-null   object\n",
      " 8   Engine        9080 non-null   object\n",
      " 9   Transmission  9080 non-null   object\n",
      " 10  Doors         9080 non-null   int64 \n",
      "dtypes: int64(4), object(7)\n",
      "memory usage: 780.4+ KB\n"
     ]
    }
   ],
   "source": [
    "df.info()"
   ]
  },
  {
   "cell_type": "code",
   "execution_count": 20,
   "id": "734f999b-c666-48e5-91ef-56ecbb1b9e6e",
   "metadata": {},
   "outputs": [],
   "source": [
    "df = df.astype({'Make':'category', 'Model':'category', 'Year':'category',\n",
    "                'Mileage':'int32', 'Price':'int64', 'Body Style':'category',\n",
    "                'Ex Color':'category' , 'In Color':'category',\n",
    "                'Engine':'category', 'Transmission':'category', 'Doors':'category'})"
   ]
  },
  {
   "cell_type": "code",
   "execution_count": 21,
   "id": "3a2d5c69-91f8-457a-a2ad-22c45a9054fd",
   "metadata": {},
   "outputs": [
    {
     "name": "stdout",
     "output_type": "stream",
     "text": [
      "<class 'pandas.core.frame.DataFrame'>\n",
      "RangeIndex: 9080 entries, 0 to 9079\n",
      "Data columns (total 11 columns):\n",
      " #   Column        Non-Null Count  Dtype   \n",
      "---  ------        --------------  -----   \n",
      " 0   Make          9080 non-null   category\n",
      " 1   Model         9080 non-null   category\n",
      " 2   Year          9080 non-null   category\n",
      " 3   Mileage       9080 non-null   int32   \n",
      " 4   Price         9080 non-null   int64   \n",
      " 5   Body Style    9080 non-null   category\n",
      " 6   Ex Color      9080 non-null   category\n",
      " 7   In Color      9080 non-null   category\n",
      " 8   Engine        9080 non-null   category\n",
      " 9   Transmission  9080 non-null   category\n",
      " 10  Doors         9080 non-null   category\n",
      "dtypes: category(9), int32(1), int64(1)\n",
      "memory usage: 239.9 KB\n"
     ]
    }
   ],
   "source": [
    "df.info()"
   ]
  },
  {
   "cell_type": "code",
   "execution_count": 23,
   "id": "8c94a7dd-d2d0-4eda-a04f-2f6979a03c6b",
   "metadata": {},
   "outputs": [
    {
     "name": "stdout",
     "output_type": "stream",
     "text": [
      "(9080, 11)\n"
     ]
    }
   ],
   "source": [
    "print(df.shape)"
   ]
  },
  {
   "cell_type": "code",
   "execution_count": 24,
   "id": "5206d85c-57a6-4b7d-a00a-99904cd2ec40",
   "metadata": {},
   "outputs": [
    {
     "name": "stdout",
     "output_type": "stream",
     "text": [
      "Index(['Make', 'Model', 'Year', 'Mileage', 'Price', 'Body Style', 'Ex Color',\n",
      "       'In Color', 'Engine', 'Transmission', 'Doors'],\n",
      "      dtype='object')\n"
     ]
    }
   ],
   "source": [
    "print(df.columns)"
   ]
  },
  {
   "cell_type": "code",
   "execution_count": 26,
   "id": "d739ac12-527e-459e-9736-b2df1d5be101",
   "metadata": {},
   "outputs": [
    {
     "name": "stdout",
     "output_type": "stream",
     "text": [
      "Possible body styles:\n",
      "['Sedan', 'SUV', 'Hatchback', 'Wagon', 'Coupe', 'Minivan', 'Van', 'Pickup', 'Convertible', 'Chassis']\n",
      "Categories (10, object): ['Chassis', 'Convertible', 'Coupe', 'Hatchback', ..., 'SUV', 'Sedan', 'Van', 'Wagon']\n"
     ]
    }
   ],
   "source": [
    "print('Possible body styles:')\n",
    "print(df['Body Style'].unique())"
   ]
  },
  {
   "cell_type": "code",
   "execution_count": 27,
   "id": "e6742d44-e581-4fae-8aa9-0df410fd792a",
   "metadata": {},
   "outputs": [
    {
     "name": "stdout",
     "output_type": "stream",
     "text": [
      "Possible external colours:\n",
      "['Gray', 'Silver', 'Black', 'White', 'Red', ..., 'Orange', 'Beige', 'Yellow', 'Bronze', 'Pink']\n",
      "Length: 15\n",
      "Categories (15, object): ['Beige', 'Black', 'Blue', 'Bronze', ..., 'Red', 'Silver', 'White', 'Yellow']\n"
     ]
    }
   ],
   "source": [
    "print('Possible external colours:')\n",
    "print(df['Ex Color'].unique())"
   ]
  },
  {
   "cell_type": "code",
   "execution_count": 31,
   "id": "68e40d98-8fbb-4891-8f72-4dbd7de4e759",
   "metadata": {},
   "outputs": [
    {
     "name": "stdout",
     "output_type": "stream",
     "text": [
      "min = 1490\n"
     ]
    }
   ],
   "source": [
    "print('min = {}'.format(df['Price'].min()))"
   ]
  },
  {
   "cell_type": "code",
   "execution_count": 34,
   "id": "279ee1ce-8e03-4b8e-9f2a-67f6e825fd30",
   "metadata": {},
   "outputs": [
    {
     "name": "stdout",
     "output_type": "stream",
     "text": [
      "max = 499898\n"
     ]
    }
   ],
   "source": [
    "print('max = {}'.format(df['Price'].max()))"
   ]
  },
  {
   "cell_type": "code",
   "execution_count": 36,
   "id": "5b1ba001-e49f-4149-864f-a6b73af446fa",
   "metadata": {},
   "outputs": [
    {
     "name": "stdout",
     "output_type": "stream",
     "text": [
      "average = 24410.92665198238\n"
     ]
    }
   ],
   "source": [
    "print('average = {}'.format(df['Price'].mean()))"
   ]
  },
  {
   "cell_type": "code",
   "execution_count": 40,
   "id": "0c6459e1-67ba-4602-9a4e-394a723ffa79",
   "metadata": {},
   "outputs": [
    {
     "name": "stdout",
     "output_type": "stream",
     "text": [
      "median = 21500.0\n"
     ]
    }
   ],
   "source": [
    "print('median = {}'.format(df['Price'].median()))"
   ]
  },
  {
   "cell_type": "code",
   "execution_count": 41,
   "id": "ac6eecab-a7fb-4a99-9375-38aa39a4aa5f",
   "metadata": {},
   "outputs": [
    {
     "name": "stdout",
     "output_type": "stream",
     "text": [
      "std deviation = 16300.355338946363\n"
     ]
    }
   ],
   "source": [
    "print('std deviation = {}'.format(df['Price'].std()))"
   ]
  }
 ],
 "metadata": {
  "kernelspec": {
   "display_name": "Python 3 (ipykernel)",
   "language": "python",
   "name": "python3"
  },
  "language_info": {
   "codemirror_mode": {
    "name": "ipython",
    "version": 3
   },
   "file_extension": ".py",
   "mimetype": "text/x-python",
   "name": "python",
   "nbconvert_exporter": "python",
   "pygments_lexer": "ipython3",
   "version": "3.10.12"
  }
 },
 "nbformat": 4,
 "nbformat_minor": 5
}
